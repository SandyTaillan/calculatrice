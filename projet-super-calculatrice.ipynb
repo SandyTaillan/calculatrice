{
 "cells": [
  {
   "cell_type": "markdown",
   "metadata": {},
   "source": [
    "# <center><font color = \"#b11a1a\">La calculatrice</font></center>\n",
    "\n",
    "Dans le but de faire un exercice, j'ai décidé de partir du cours Udemy de Thibault Houdon et de l'arranger à ma sauce en lui rajoutant un design et des fonctionnalités supplémentaires.\n"
   ]
  },
  {
   "cell_type": "code",
   "execution_count": null,
   "metadata": {},
   "outputs": [],
   "source": [
    "![carte-heuristique](/)"
   ]
  },
  {
   "cell_type": "markdown",
   "metadata": {},
   "source": [
    "![diagramme de départ](images/diagramme/organigramme-1.png)"
   ]
  },
  {
   "cell_type": "markdown",
   "metadata": {},
   "source": [
    "lPour l'interface graphique de l'application, je vais avoir besoin de Pyside et du modules [QtGui](https://doc.qt.io/qt-5.10/qtgui-index.html \"QtGui\")"
   ]
  },
  {
   "cell_type": "markdown",
   "metadata": {},
   "source": [
    "Voici un début de diagramme UML pour mettre en pratique ce début de code :"
   ]
  },
  {
   "cell_type": "markdown",
   "metadata": {},
   "source": [
    "![diagramme UMl de départ](images/diagramme/diagramme-2.png)"
   ]
  },
  {
   "cell_type": "markdown",
   "metadata": {},
   "source": [
    "QWidget est La classe de base de tous les objets de l'interface utilisateur.<br />\n",
    "QTabWidget est la Pile de widgets onglets."
   ]
  }
 ],
 "metadata": {
  "kernelspec": {
   "display_name": "Python 3",
   "language": "python",
   "name": "python3"
  },
  "language_info": {
   "codemirror_mode": {
    "name": "ipython",
    "version": 3
   },
   "file_extension": ".py",
   "mimetype": "text/x-python",
   "name": "python",
   "nbconvert_exporter": "python",
   "pygments_lexer": "ipython3",
   "version": "3.5.2"
  }
 },
 "nbformat": 4,
 "nbformat_minor": 2
}
