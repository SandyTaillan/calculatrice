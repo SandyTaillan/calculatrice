{
 "cells": [
  {
   "cell_type": "markdown",
   "metadata": {},
   "source": [
    "# <center><font color = \"#b11a1a\">La calculatrice</font></center>\n",
    "\n",
    "Dans le but de faire un exercice, j'ai décidé de partir du cours Udemy de Thibault Houdon et de l'arranger à ma sauce en lui rajoutant un design et des fonctionnalités supplémentaires.\n"
   ]
  },
  {
   "cell_type": "markdown",
   "metadata": {},
   "source": [
    "![carte-heuristique](images/diagramme/organigramme-2.png)"
   ]
  },
  {
   "cell_type": "markdown",
   "metadata": {},
   "source": [
    "![diagramme de départ](images/diagramme/organigramme-1.png)"
   ]
  },
  {
   "cell_type": "markdown",
   "metadata": {},
   "source": [
    "lPour l'interface graphique de l'application, je vais avoir besoin de Pyside et du modules [QtGui](https://doc.qt.io/qt-5.10/qtgui-index.html \"QtGui\")"
   ]
  },
  {
   "cell_type": "markdown",
   "metadata": {},
   "source": [
    "Voici un début de diagramme UML pour mettre en pratique ce début de code :"
   ]
  },
  {
   "cell_type": "markdown",
   "metadata": {},
   "source": [
    "![diagramme UMl de départ](images/diagramme/diagramme-2.png)"
   ]
  },
  {
   "cell_type": "markdown",
   "metadata": {},
   "source": [
    "QWidget est La classe de base de tous les objets de l'interface utilisateur.<br />\n",
    "QTabWidget est la Pile de widgets onglets."
   ]
  },
  {
   "cell_type": "markdown",
   "metadata": {},
   "source": [
    "Normalement, on doit commencer à s'occuper du code principal avant de s'occuper du code de l'interface graphique.<br />\n",
    "Mais comme ce code est très très simple, j'ai décidé de commencer à poser les bases de l'interface graphique.\n",
    "\n",
    "On créé donc d'abord la fenêtre. en lui spécifiant que l'on va utiliser les onglets (QtGui.QTabWidget)"
   ]
  },
  {
   "cell_type": "code",
   "execution_count": null,
   "metadata": {},
   "outputs": [],
   "source": [
    "#!/usr/bin/env python\n",
    "# -*- coding: utf-8 -*-\n",
    "\n",
    "# python 2.7 et PySide\n",
    "\n",
    "\n",
    "from PySide import QtGui,QtCore\n",
    "\n",
    "class Masupercalculatrice(QtGui.QWidget):\n",
    "    \"\"\"Ma super class qui va appeler les fonctions principales\"\"\"\n",
    "    def __init__(self):\n",
    "        super(Masupercalculatrice, self).__init__()\n",
    "\n",
    "        self.creainterface()\n",
    "\n",
    "\n",
    "    def creainterface(self):\n",
    "        \"\"\"Fonction dans laquelle on crée les widgets pour notre interface\"\"\"\n",
    "\n",
    "        pass\n",
    "\n",
    "\n",
    "\n",
    "\n",
    "\n",
    "app = QtGui.QApplication([])\n",
    "ongletfenetre = QtGui.QTabWidget()\n",
    "Masupercalculatrice()\n",
    "ongletfenetre.show()\n",
    "app.exec_()"
   ]
  },
  {
   "cell_type": "markdown",
   "metadata": {},
   "source": [
    "Ensuite, on créé les onglet : "
   ]
  },
  {
   "cell_type": "code",
   "execution_count": null,
   "metadata": {},
   "outputs": [],
   "source": [
    "    def creainterface(self):\n",
    "        \"\"\"Fonction dans laquelle on crée les widgets pour notre interface\"\"\"\n",
    "\n",
    "        calculatrice = QtGui.QWidget()\n",
    "        convertisseur = QtGui.QWidget()\n",
    "\n",
    "        ongletfenetre.addTab(calculatrice, \"Calculatrice\")\n",
    "        ongletfenetre.addTab(convertisseur, \"Convertisseur\")"
   ]
  },
  {
   "cell_type": "markdown",
   "metadata": {},
   "source": [
    "Cependant, comme je vais avoir plusieurs onglets, je dois passer la fenetre en onglet en paramètre de la fonction pour déterminer quel widget appartient à quel onglet:"
   ]
  },
  {
   "cell_type": "code",
   "execution_count": null,
   "metadata": {},
   "outputs": [],
   "source": [
    "    def creainterface(self, ongletfenetre):"
   ]
  },
  {
   "cell_type": "markdown",
   "metadata": {},
   "source": [
    "Et ainsi, on va pouvoir indiquer que l'on crée le layout de la calculatrice ou du convertisseur. On peut donc dire que la fonction creainterface est une usine à créer des onglets."
   ]
  },
  {
   "cell_type": "code",
   "execution_count": null,
   "metadata": {},
   "outputs": [],
   "source": [
    "#!/usr/bin/env python\n",
    "# -*- coding: utf-8 -*-\n",
    "\n",
    "# python 2.7 et PySide\n",
    "\n",
    "\n",
    "from PySide import QtGui,QtCore\n",
    "\n",
    "class Masupercalculatrice(QtGui.QWidget):\n",
    "    \"\"\"Ma super class qui va appeler les fonctions principales\"\"\"\n",
    "    def __init__(self):\n",
    "        super(Masupercalculatrice, self).__init__()\n",
    "\n",
    "        self.creainterface(ongletfenetre)\n",
    "\n",
    "\n",
    "    def creainterface(self, ongletfenetre):\n",
    "        \"\"\"Fonction dans laquelle on crée les widgets pour notre interface\"\"\"\n",
    "\n",
    "        calculatrice = QtGui.QWidget()\n",
    "        convertisseur = QtGui.QWidget()\n",
    "\n",
    "        ongletfenetre.addTab(calculatrice, \"Calculatrice\")\n",
    "        self.layout = QtGui.QGridLayout(calculatrice)\n",
    "        \n",
    "        ongletfenetre.addTab(convertisseur, \"Convertisseur\")\n",
    "        self.layout = QtGui.QGridLayout(convertisseur)\n",
    "\n",
    "\n",
    "\n",
    "\n",
    "\n",
    "app = QtGui.QApplication([])\n",
    "ongletfenetre = QtGui.QTabWidget()\n",
    "Masupercalculatrice()\n",
    "ongletfenetre.show()\n",
    "app\n"
   ]
  },
  {
   "cell_type": "markdown",
   "metadata": {},
   "source": [
    "Cependant, pour une meilleure visibilité du code, il me semble préférable de créer des fonctions distinctes pour chaque onglet.\n"
   ]
  },
  {
   "cell_type": "code",
   "execution_count": null,
   "metadata": {},
   "outputs": [],
   "source": [
    "from PySide import QtGui,QtCore\n",
    "\n",
    "class Masupercalculatrice(QtGui.QWidget):\n",
    "    \"\"\"Ma super class qui va appeler les fonctions principales\"\"\"\n",
    "    def __init__(self):\n",
    "        super(Masupercalculatrice, self).__init__()\n",
    "\n",
    "        self.creainterfaceCal(ongletfenetre)\n",
    "        self.creainterfaceTemp(ongletfenetre)\n",
    "\n",
    "    def creainterfaceCal(self, ongletfenetre):\n",
    "        \"\"\"Fonction dans laquelle on crée les widgets pour l'onglet calculatrice.\"\"\"\n",
    "\n",
    "        calculatrice = QtGui.QWidget()\n",
    "        ongletfenetre.addTab(calculatrice, \"Calculatrice\")\n",
    "        self.layout = QtGui.QGridLayout(calculatrice)\n",
    "\n",
    "\n",
    "    def creainterfaceTemp(self, ongletfenetre):\n",
    "        \"\"\"Fonction dans laquelle on crée les widgets pour l'onglet convertisseur.\"\"\"\n",
    "\n",
    "        convertisseur = QtGui.QWidget()\n",
    "        ongletfenetre.addTab(convertisseur, \"Convertisseur\")\n",
    "        self.layout = QtGui.QGridLayout(convertisseur)\n",
    "\n",
    "\n",
    "\n",
    "app = QtGui.QApplication([])\n",
    "ongletfenetre = QtGui.QTabWidget()\n",
    "Masupercalculatrice()\n",
    "ongletfenetre.show()\n",
    "app.exec_()"
   ]
  },
  {
   "cell_type": "markdown",
   "metadata": {},
   "source": [
    "Admettons cependant que pour une question de lisibilité, je veuille séparer le code de l'interface graphique du reste du code. Je vais donc créer une class object et mettre ce code dans un autre fichier, dans un dossier à part.<br />\n",
    "Il me suffira ensuite d'importer le fichier."
   ]
  },
  {
   "cell_type": "markdown",
   "metadata": {},
   "source": [
    "Fichier principal :"
   ]
  },
  {
   "cell_type": "code",
   "execution_count": null,
   "metadata": {},
   "outputs": [],
   "source": [
    "from PySide import QtGui,QtCore\n",
    "from design.intergraphique import interface\n",
    "\n",
    "class Masupercalculatrice(QtGui.QWidget, interface):\n",
    "    \"\"\"Ma super class qui va appeler les fonctions principales\"\"\"\n",
    "    def __init__(self):\n",
    "        super(Masupercalculatrice, self).__init__()\n",
    "\n",
    "        self.intergenerale(ongletfenetre)\n",
    "\n",
    "\n",
    "app = QtGui.QApplication([])\n",
    "ongletfenetre = QtGui.QTabWidget()\n",
    "Masupercalculatrice()\n",
    "ongletfenetre.show()\n",
    "app.exec_()"
   ]
  },
  {
   "cell_type": "markdown",
   "metadata": {},
   "source": [
    "Le fichier dans un autre dossier avec que ce qui concerne l'interface graphique (ne pas oublier de mettre un fichier init pour indiquer à python que le fichier fait parti du reste."
   ]
  },
  {
   "cell_type": "code",
   "execution_count": null,
   "metadata": {},
   "outputs": [],
   "source": [
    "#!/usr/bin/env python\n",
    "# -*- coding: utf-8 -*-\n",
    "\n",
    "from PySide import QtCore, QtGui\n",
    "\n",
    "\n",
    "class interface(object):\n",
    "    \"\"\"Class pour regrouper toutes les fonctions utiles pour la création de l'interface graphique.\"\"\"\n",
    "\n",
    "    def intergenerale(self, ongletfenetre):\n",
    "\n",
    "\n",
    "        self.creainterfaceCal(ongletfenetre)\n",
    "        self.creainterfaceTemp(ongletfenetre)\n",
    "\n",
    "    def creainterfaceCal(self, ongletfenetre):\n",
    "        \"\"\"Fonction dans laquelle on crée les widgets pour l'onglet calculatrice.\"\"\"\n",
    "\n",
    "        calculatrice = QtGui.QWidget()\n",
    "        ongletfenetre.addTab(calculatrice, \"Calculatrice\")\n",
    "        self.layout = QtGui.QGridLayout(calculatrice)\n",
    "\n",
    "\n",
    "    def creainterfaceTemp(self, ongletfenetre):\n",
    "        \"\"\"Fonction dans laquelle on crée les widgets pour l'onglet convertisseur.\"\"\"\n",
    "\n",
    "        convertisseur = QtGui.QWidget()\n",
    "        ongletfenetre.addTab(convertisseur, \"Convertisseur\")\n",
    "        self.layout = QtGui.QGridLayout(convertisseur)"
   ]
  },
  {
   "cell_type": "markdown",
   "metadata": {},
   "source": [
    "Ensuite, je vais créer les différents widgets de l'interface. Je sais que je vais avoir besoin de QLineEdit et de QPushButton pour la calculatrice et de label pour le convertisseur. et de QtGui.QSpacerItem pour améliorer l'esthétisme de mon interface. Je vais aussi leur donner une dimension."
   ]
  },
  {
   "cell_type": "code",
   "execution_count": null,
   "metadata": {},
   "outputs": [],
   "source": [
    "    def creainterfaceCal(self, ongletfenetre):\n",
    "        \"\"\"Fonction dans laquelle on crée les widgets pour l'onglet calculatrice.\"\"\"\n",
    "\n",
    "        self.calculatrice = QtGui.QWidget()\n",
    "        ongletfenetre.addTab(self.calculatrice, \"Calculatrice\")\n",
    "        self.layout = QtGui.QGridLayout(self.calculatrice)\n",
    "\n",
    "        # assignation des widgets à la calculatrice\n",
    "        self.operation = QtGui.QLineEdit(self.calculatrice)\n",
    "        self.resultat = QtGui.QLineEdit('0', self.calculatrice)\n",
    "        self.spacerItem1 = QtGui.QSpacerItem(15, 20, QtGui.QSizePolicy.Expanding, QtGui.QSizePolicy.Minimum)\n",
    "        self.btn0 = QtGui.QPushButton('0', self.calculatrice)\n",
    "        self.btn1 = QtGui.QPushButton('1', self.calculatrice)\n",
    "        self.btn2 = QtGui.QPushButton('2', self.calculatrice)\n",
    "        self.btn3 = QtGui.QPushButton('3', self.calculatrice)\n",
    "        self.btn4 = QtGui.QPushButton('4', self.calculatrice)\n",
    "        self.btn5 = QtGui.QPushButton('5', self.calculatrice)\n",
    "        self.btn6 = QtGui.QPushButton('6', self.calculatrice)\n",
    "        self.btn7 = QtGui.QPushButton('7', self.calculatrice)\n",
    "        self.btn8 = QtGui.QPushButton('8', self.calculatrice)\n",
    "        self.btn9 = QtGui.QPushButton('9', self.calculatrice)\n",
    "        self.btn00 = QtGui.QPushButton('00', self.calculatrice)\n",
    "        self.btnpoint = QtGui.QPushButton('.', self.calculatrice)\n",
    "        self.btnegal = QtGui.QPushButton('=', self.calculatrice)\n",
    "        self.btnplus = QtGui.QPushButton('+', self.calculatrice)\n",
    "        self.btnmoins = QtGui.QPushButton('-', self.calculatrice)\n",
    "        self.btnmulti = QtGui.QPushButton('*', self.calculatrice)\n",
    "        self.btndivi = QtGui.QPushButton('/', self.calculatrice)\n",
    "        self.btn_c = QtGui.QPushButton('C', self.calculatrice)\n",
    "        # définition de la taille des widgets par rapport à la grille\n",
    "        self.layout.addWidget(self.operation, 0, 0, 1, 7)\n",
    "        self.layout.addWidget(self.resultat, 1, 0, 2, 7)\n",
    "        self.layout.addItem(self.spacerItem1, 3, 0, 1, 7)\n",
    "        self.layout.addWidget(self.btn9, 4, 3, 1, 1)\n",
    "        self.layout.addWidget(self.btn8, 4, 2, 1, 1)\n",
    "        self.layout.addWidget(self.btn7, 4, 1, 1, 1)\n",
    "        self.layout.addWidget(self.btn6, 5, 3, 1, 1)\n",
    "        self.layout.addWidget(self.btn5, 5, 2, 1, 1)\n",
    "        self.layout.addWidget(self.btn4, 5, 1, 1, 1)\n",
    "        self.layout.addWidget(self.btn3, 6, 3, 1, 1)\n",
    "        self.layout.addWidget(self.btn2, 6, 2, 1, 1)\n",
    "        self.layout.addWidget(self.btn1, 6, 1, 1, 1)\n",
    "        self.layout.addWidget(self.btn0, 7, 1, 1, 1)\n",
    "        self.layout.addWidget(self.btn00, 7, 2, 1, 1)\n",
    "        self.layout.addWidget(self.btnpoint, 7, 3, 1, 1)\n",
    "        self.layout.addWidget(self.btnegal, 7, 5, 1, 2)\n",
    "        self.layout.addWidget(self.btnplus, 6, 5, 1, 1)\n",
    "        self.layout.addWidget(self.btnmoins, 6, 6, 1, 1)\n",
    "        self.layout.addWidget(self.btnmulti, 5, 5, 1, 1)\n",
    "        self.layout.addWidget(self.btndivi, 5, 6, 1, 1)\n",
    "        self.layout.addWidget(self.btn_c, 4, 5, 1, 2)\n",
    "\n"
   ]
  },
  {
   "cell_type": "markdown",
   "metadata": {},
   "source": [
    "on peut connaître le nombre de layout dans mon interface en faisant : "
   ]
  },
  {
   "cell_type": "code",
   "execution_count": null,
   "metadata": {},
   "outputs": [],
   "source": [
    "print(self.layout.count())"
   ]
  },
  {
   "cell_type": "markdown",
   "metadata": {},
   "source": [
    "J'ai essayé de donné des couleurs différentes à mes QPushButton grâce à les feuilles de style à partir du nom (ObjectName)."
   ]
  },
  {
   "cell_type": "code",
   "execution_count": null,
   "metadata": {},
   "outputs": [],
   "source": [
    "self.btn0.setObjectName(\"rouge\")"
   ]
  },
  {
   "cell_type": "code",
   "execution_count": null,
   "metadata": {},
   "outputs": [],
   "source": [
    "        ongletfenetre.setStyleSheet(\n",
    "                              \"QPushButton {background-color: green;}\"\n",
    "                              \"QPushButton#rouge {background-color: red;}\"\n",
    "        )"
   ]
  },
  {
   "cell_type": "markdown",
   "metadata": {},
   "source": [
    "Je veux automatiser l'attribution de la taille des boutons mais uniquement pour certains boutons.<br />\n",
    "je créé une liste dans laquelle je met les widgets qui sont des QBushButton et  dont le texte est de type nombre."
   ]
  },
  {
   "cell_type": "code",
   "execution_count": null,
   "metadata": {},
   "outputs": [],
   "source": [
    "        self.btnnombre = []\n",
    "\n",
    "        for i in range(self.layout.count()):\n",
    "            widget = self.layout.itemAt(i).widget()\n",
    "            if isinstance(widget, QtGui.QPushButton) and widget.text().isdigit():\n",
    "                self.btnnombre.append(widget)"
   ]
  },
  {
   "cell_type": "markdown",
   "metadata": {},
   "source": [
    "Ensuite, je leur donne une taille minimum :"
   ]
  },
  {
   "cell_type": "code",
   "execution_count": null,
   "metadata": {},
   "outputs": [],
   "source": [
    "        for btn in self.btnnombre:\n",
    "            btn.setMinimumSize(50,50)"
   ]
  },
  {
   "cell_type": "markdown",
   "metadata": {},
   "source": [
    "Voici ou en est le code dans le fichier \"intergraphique\": "
   ]
  },
  {
   "cell_type": "code",
   "execution_count": null,
   "metadata": {},
   "outputs": [],
   "source": [
    "#!/usr/bin/env python\n",
    "# -*- coding: utf-8 -*-\n",
    "\n",
    "from PySide import QtCore, QtGui\n",
    "\n",
    "\n",
    "class interface(object):\n",
    "    \"\"\"Class pour regrouper toutes les fonctions utiles pour la création de l'interface graphique.\"\"\"\n",
    "\n",
    "    def intergenerale(self, ongletfenetre):\n",
    "        \"\"\"Appel des différentes fonctions de l'interface graphique et dimension générale\"\"\"\n",
    "\n",
    "        ongletfenetre.setWindowTitle('Super-calculatrice')  # donner un nom à l'application\n",
    "        w = 290\n",
    "        h = 350\n",
    "        ongletfenetre.move(1920 / 2 - w / 2, 1080 / 2 - h / 2)\n",
    "        ongletfenetre.setMinimumSize(QtCore.QSize(w, h))  # taille minimum de ma fenetre en onglet\n",
    "\n",
    "        self.creainterfaceCal(ongletfenetre)\n",
    "        self.creainterfaceTemp(ongletfenetre)\n",
    "\n",
    "    def creainterfaceCal(self, ongletfenetre):\n",
    "        \"\"\"Fonction dans laquelle on crée les widgets pour l'onglet calculatrice.\"\"\"\n",
    "\n",
    "        self.calculatrice = QtGui.QWidget()\n",
    "        ongletfenetre.addTab(self.calculatrice, \"Calculatrice\")\n",
    "        self.layout = QtGui.QGridLayout(self.calculatrice)\n",
    "\n",
    "        # assignation des widgets à la calculatrice\n",
    "        self.btnstyle = QtGui.QPushButton('T', self.calculatrice)\n",
    "        self.operation = QtGui.QLineEdit(self.calculatrice)\n",
    "        self.resultat = QtGui.QLineEdit('0', self.calculatrice)\n",
    "        self.spacerItem1 = QtGui.QSpacerItem(15, 20, QtGui.QSizePolicy.Expanding, QtGui.QSizePolicy.Minimum)\n",
    "        self.btn0 = QtGui.QPushButton('0', self.calculatrice)\n",
    "        self.btn0.setObjectName(\"rouge\")\n",
    "        self.btn1 = QtGui.QPushButton('1', self.calculatrice)\n",
    "        self.btn1.setObjectName(\"rouge\")\n",
    "        self.btn2 = QtGui.QPushButton('2', self.calculatrice)\n",
    "        self.btn2.setObjectName(\"rouge\")\n",
    "        self.btn3 = QtGui.QPushButton('3', self.calculatrice)\n",
    "        self.btn3.setObjectName(\"rouge\")\n",
    "        self.btn4 = QtGui.QPushButton('4', self.calculatrice)\n",
    "        self.btn4.setObjectName(\"rouge\")\n",
    "        self.btn5 = QtGui.QPushButton('5', self.calculatrice)\n",
    "        self.btn5.setObjectName(\"rouge\")\n",
    "        self.btn6 = QtGui.QPushButton('6', self.calculatrice)\n",
    "        self.btn6.setObjectName(\"rouge\")\n",
    "        self.btn7 = QtGui.QPushButton('7', self.calculatrice)\n",
    "        self.btn7.setObjectName(\"rouge\")\n",
    "        self.btn8 = QtGui.QPushButton('8', self.calculatrice)\n",
    "        self.btn8.setObjectName(\"rouge\")\n",
    "        self.btn9 = QtGui.QPushButton('9', self.calculatrice)\n",
    "        self.btn9.setObjectName(\"rouge\")\n",
    "        self.btn00 = QtGui.QPushButton('00', self.calculatrice)\n",
    "        self.btn00.setObjectName(\"rouge\")\n",
    "        self.btnpoint = QtGui.QPushButton('.', self.calculatrice)\n",
    "        self.btnpoint.setObjectName(\"rouge\")\n",
    "        self.btnegal = QtGui.QPushButton('=', self.calculatrice)\n",
    "        self.btnegal.setObjectName(\"rouge\")\n",
    "        self.btnplus = QtGui.QPushButton('+', self.calculatrice)\n",
    "        self.btnplus.setObjectName(\"rouge\")\n",
    "        self.btnmoins = QtGui.QPushButton('-', self.calculatrice)\n",
    "        self.btnmoins.setObjectName(\"rouge\")\n",
    "        self.btnmulti = QtGui.QPushButton('*', self.calculatrice)\n",
    "        self.btnmulti.setObjectName(\"rouge\")\n",
    "        self.btndivi = QtGui.QPushButton('/', self.calculatrice)\n",
    "        self.btndivi.setObjectName(\"rouge\")\n",
    "        self.btn_c = QtGui.QPushButton('C', self.calculatrice)\n",
    "        self.btn_c.setObjectName(\"rouge\")\n",
    "\n",
    "        # définition de la taille des widgets par rapport à la grille\n",
    "        self.layout.addWidget(self.btnstyle, 0, 6, 1, 1)\n",
    "        self.layout.addWidget(self.operation, 1, 0, 1, 7)\n",
    "        self.layout.addWidget(self.resultat, 2, 0, 2, 7)\n",
    "        self.layout.addItem(self.spacerItem1, 4, 0, 2, 7)\n",
    "        self.layout.addWidget(self.btn9, 5, 3, 1, 1)\n",
    "        self.layout.addWidget(self.btn8, 5, 2, 1, 1)\n",
    "        self.layout.addWidget(self.btn7, 5, 1, 1, 1)\n",
    "        self.layout.addWidget(self.btn6, 6, 3, 1, 1)\n",
    "        self.layout.addWidget(self.btn5, 6, 2, 1, 1)\n",
    "        self.layout.addWidget(self.btn4, 6, 1, 1, 1)\n",
    "        self.layout.addWidget(self.btn3, 7, 3, 1, 1)\n",
    "        self.layout.addWidget(self.btn2, 7, 2, 1, 1)\n",
    "        self.layout.addWidget(self.btn1, 7, 1, 1, 1)\n",
    "        self.layout.addWidget(self.btn0, 8, 1, 1, 1)\n",
    "        self.layout.addWidget(self.btn00, 8, 2, 1, 1)\n",
    "        self.layout.addWidget(self.btnpoint, 8, 3, 1, 1)\n",
    "        self.layout.addWidget(self.btnegal, 8, 5, 1, 2)\n",
    "        self.layout.addWidget(self.btnplus, 7, 5, 1, 1)\n",
    "        self.layout.addWidget(self.btnmoins, 7, 6, 1, 1)\n",
    "        self.layout.addWidget(self.btnmulti, 6, 5, 1, 1)\n",
    "        self.layout.addWidget(self.btndivi, 6, 6, 1, 1)\n",
    "        self.layout.addWidget(self.btn_c, 5, 5, 1, 2)\n",
    "        self.layout.setSpacing(4)\n",
    "        self.layout.setContentsMargins(6, -1, 6, -1)\n",
    "\n",
    "        # attribution des tailles de widget\n",
    "        # Attribution d'une taille minimum si le bouton à un ObjectName = rouge\n",
    "        self.btnnombrerouge = []\n",
    "        self.btnnombrebleu = []\n",
    "\n",
    "        for i in range(self.layout.count()):\n",
    "            widget = self.layout.itemAt(i).widget()\n",
    "            if isinstance(widget, QtGui.QPushButton) and widget.objectName() == \"rouge\":\n",
    "                self.btnnombrerouge.append(widget)\n",
    "            #if isinstance(widget, QtGui.QPushButton) and widget.objectName() == \"bleu\":\n",
    "                #self.btnnombrebleu.append(widget)\n",
    "        for btn in self.btnnombrerouge:\n",
    "            btn.setMinimumSize(50,50)\n",
    "        #for btn in self.btnnombrebleu:\n",
    "            #btn.setMinimumSize(50, 50)\n",
    "        self.btnstyle.setMaximumSize(20,20)\n",
    "\n",
    "    def creainterfaceTemp(self, ongletfenetre):\n",
    "        \"\"\"Fonction dans laquelle on crée les widgets pour l'onglet convertisseur.\"\"\"\n",
    "\n",
    "        convertisseur = QtGui.QWidget()\n",
    "        ongletfenetre.addTab(convertisseur, \"Convertisseur\")\n",
    "        self.layout = QtGui.QGridLayout(convertisseur)"
   ]
  },
  {
   "cell_type": "markdown",
   "metadata": {},
   "source": [
    "Je m'attaque ensuite à la relation code de calcul et interface. Comme plusieurs QPushButton vont être connecté à la même fonction, on va utiliser le module functools et plus particulièrement partial."
   ]
  },
  {
   "cell_type": "code",
   "execution_count": null,
   "metadata": {},
   "outputs": [],
   "source": [
    "from functools import partial"
   ]
  }
 ],
 "metadata": {
  "kernelspec": {
   "display_name": "Python 3",
   "language": "python",
   "name": "python3"
  },
  "language_info": {
   "codemirror_mode": {
    "name": "ipython",
    "version": 3
   },
   "file_extension": ".py",
   "mimetype": "text/x-python",
   "name": "python",
   "nbconvert_exporter": "python",
   "pygments_lexer": "ipython3",
   "version": "3.5.2"
  }
 },
 "nbformat": 4,
 "nbformat_minor": 2
}
